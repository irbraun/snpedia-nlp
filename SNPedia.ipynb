{
 "cells": [
  {
   "cell_type": "code",
   "execution_count": null,
   "metadata": {},
   "outputs": [],
   "source": [
    "import re\n",
    "from mwclient import Site\n",
    "from mwclient import page\n",
    "\n",
    "\n"
   ]
  },
  {
   "cell_type": "code",
   "execution_count": null,
   "metadata": {},
   "outputs": [],
   "source": []
  },
  {
   "cell_type": "code",
   "execution_count": 150,
   "metadata": {},
   "outputs": [],
   "source": [
    "def gene_to_snp_texts(site, gene_name):\n",
    "    snp_name_to_raw_text = {}\n",
    "    gene_page = page.Page(site,gene_name)\n",
    "    snp_category_str = \"Category:Is a snp\"\n",
    "    for linked_page in gene_page.links():\n",
    "        if snp_category_str in [c.name for c in linked_page.categories()]:\n",
    "            snp_name = linked_page.name\n",
    "            raw_text = linked_page.text()\n",
    "            snp_name_to_raw_text[snp_name] = raw_text\n",
    "    return(snp_name_to_raw_text)\n"
   ]
  },
  {
   "cell_type": "code",
   "execution_count": 151,
   "metadata": {},
   "outputs": [],
   "source": [
    "def remove_with_regex(pattern, text):\n",
    "    matches = re.findall(pattern, text)\n",
    "    for match in matches:\n",
    "        text = text.replace(match[0], \"\")\n",
    "    return(text.strip())\n",
    "\n"
   ]
  },
  {
   "cell_type": "code",
   "execution_count": 152,
   "metadata": {},
   "outputs": [],
   "source": [
    "def clean_raw_page_text(text):\n",
    "    \n",
    "    # Remove all newline characters from the text\n",
    "    text = v.replace(\"\\n\",\"\").replace(\"\\r\",\"\").replace(\"\\t\",\"\")\n",
    "    \n",
    "    # Remove all the text that is inside of double curly braces, i.e from tables.\n",
    "    text = remove_with_regex(r'(\\{\\{(.|\\n)*?\\}\\})', text)\n",
    "        \n",
    "    # Remove the square brackets that indicate links, but keep the interior strings that aren't links.\n",
    "    text = remove_with_regex(r'((www|http:|https:)+[^\\s]+[\\w])', text)\n",
    "    text = text.replace(\"[\",\"\").replace(\"]\",\"\")\n",
    "    return(text.strip())"
   ]
  },
  {
   "cell_type": "code",
   "execution_count": 154,
   "metadata": {},
   "outputs": [
    {
     "name": "stdout",
     "output_type": "stream",
     "text": [
      "\n",
      "I3003626\n",
      "The public name for this SNP is rs333, and it is most commonly known as the CCR5 Delta32 (or 'Delta 32') mutation.It is discussed in numerous articles and blogs, including  here and / here.*II +/+: Not resistant to HIV infection; shows average time of progression to AIDS after infection.*DI Delta32/+: Not resistant to HIV infection but may have slower progression to AIDS after infection.*DD Delta32/Delta32: Resistant to infection by the most common strain of HIV people usually encounter, though protection is not complete.Resistance to HIV/AIDS\n",
      "\n",
      "Rs1799987\n",
      "CCR5 59029G, also known as -2459 PMID 9742978, PMID 12815099\n",
      "\n",
      "Rs1799988\n",
      "\n",
      "\n",
      "Rs1800452\n",
      "Optimization of candidate-gene SNP-genotyping by flexible oligonucleotide microarrays; analyzing variations in immune regulator genes of hay-fever samples.\n",
      "\n",
      "Rs1800560\n",
      "\n",
      "\n",
      "Rs1800940\n",
      "\n",
      "\n",
      "Rs1800944\n",
      "\n",
      "\n",
      "Rs2856758\n",
      "Rs2856758 is a SNP in the CCR5 gene (CC-chemokine receptor type 5). Variants in CCR5 are associated with resistance to HIV infection.  Another mutation in this gene, rs333 (also known as the CCR5-delta32 deletion), is associated with resistance to HIV. This mutation may have spread in the European population in response to selection pressure from plague (Black Death) or smallpox.  Polymorphisms in the CC-chemokine receptor-2 (CCR2) and -5 (CCR5) genes and risk of coronary heart disease among US women. Genetic variation within the gene encoding the HIV-1 CCR5 coreceptor in two South African populations. Host and viral genetic correlates of clinical definitions of HIV-1 disease progression.\n",
      "\n",
      "Rs333\n",
      "The chemokine receptor gene CCR5 plays an important role in many immune-related processes. Delta 32 rs333, designating the CCR5-delta32 deletion of 32 nucleotides from within the gene, is perhaps the most famous allele of CCR5. 23andMe tests for this under their private identifier/name, I3003626.Individuals carrying one copy of the delta 32 allele are somewhat resistant to infection by HIV, the virus that causes AIDS, and individuals with 2 copies (delta 32 homozygotes, ~1% of Caucasians) are almost completely immune to infection by HIV.  The delta 32 allele may have been selected for in European populations because it confers resistance to plague (Black Death) or smallpox.  shows the the geographic spread of the allele. Image:Journal.pbio.0030339.g001.png|thumb|300px|The geographic spread of the allele  NEJM suggests decreased risk of type 1 diabetes (odds ratio, 0.54; 95% CI, 0.40 to 0.72; P=1.88x10&#8211;6 with 2 df). Does the CCR5-delta32 mutation have an entirely positive/protective role?Probably not. In patients with abdominal aortic aneurysm (AAA), the major risk is a sudden rupture - which is quite often fatal. Individuals with the delta 32 variant are more likely to have aneurysms than non-carriers, and among patients with aneurysms, delta 32 carriers are more likely to rupture than to be diagnosed in time for surgical repair. Tests for CCR-delta32 are offered by  FamilyTreeDNA ( FAQ), / 23andMe, and possibly other direct-to-consumer genetics testing companies.\n",
      "\n",
      "Rs41469351\n",
      "\n"
     ]
    }
   ],
   "source": [
    "\n",
    "site = mwclient.Site('bots.snpedia.com', path=\"/\")\n",
    "\n",
    "\n",
    "for k,v in gene_to_snp_texts(site, \"CCR5\").items():\n",
    "    print()\n",
    "    print(k)\n",
    "    print(clean_raw_page_text(v))\n"
   ]
  }
 ],
 "metadata": {
  "kernelspec": {
   "display_name": "Python 3",
   "language": "python",
   "name": "python3"
  },
  "language_info": {
   "codemirror_mode": {
    "name": "ipython",
    "version": 3
   },
   "file_extension": ".py",
   "mimetype": "text/x-python",
   "name": "python",
   "nbconvert_exporter": "python",
   "pygments_lexer": "ipython3",
   "version": "3.6.10"
  }
 },
 "nbformat": 4,
 "nbformat_minor": 4
}
