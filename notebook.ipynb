{
 "cells": [
  {
   "cell_type": "code",
   "execution_count": 1,
   "metadata": {},
   "outputs": [],
   "source": [
    "from collections import defaultdict\n",
    "import pandas as pd\n",
    "import re\n",
    "import sys\n",
    "import time\n",
    "import mwclient\n",
    "\n",
    "import cleaning\n",
    "import querying\n",
    "\n",
    "sys.path.append(\"../oats\")\n",
    "from oats.utils.utils import flatten"
   ]
  },
  {
   "cell_type": "code",
   "execution_count": 2,
   "metadata": {},
   "outputs": [
    {
     "name": "stdout",
     "output_type": "stream",
     "text": [
      "2161\n",
      "['A4GALT', 'AANAT', 'AARS', 'AARS2', 'ABCA1', 'ABCA12', 'ABCA3', 'ABCA4', 'ABCA7', 'ABCB1']\n"
     ]
    }
   ],
   "source": [
    "# Get a list of the genes on SNPedia.\n",
    "site = mwclient.Site('bots.snpedia.com', path=\"/\")\n",
    "snpedia_gene_names = [page.name for page in site.Categories[\"Is_a_gene\"]]\n",
    "print(len(snpedia_gene_names))\n",
    "print(snpedia_gene_names[:10])"
   ]
  },
  {
   "cell_type": "code",
   "execution_count": 3,
   "metadata": {},
   "outputs": [],
   "source": [
    "# Looking at just a subset of them for now.\n",
    "snpedia_gene_names = snpedia_gene_names[1:50]"
   ]
  },
  {
   "cell_type": "code",
   "execution_count": 4,
   "metadata": {},
   "outputs": [
    {
     "name": "stdout",
     "output_type": "stream",
     "text": [
      "38\n"
     ]
    },
    {
     "name": "stderr",
     "output_type": "stream",
     "text": [
      "/anaconda2/envs/oats/lib/python3.6/site-packages/IPython/core/interactiveshell.py:3063: DtypeWarning: Columns (4) have mixed types.Specify dtype option on import or set low_memory=False.\n",
      "  interactivity=interactivity, compiler=compiler, result=result)\n"
     ]
    }
   ],
   "source": [
    "# We might need to scrape for all the gene names in SNPEedia, because we can only use the ones mentioned in KEGG.\n",
    "kegg_filename = \"/Users/irbraun/phenologs-with-oats/outputs/06_30_2020_h15m05s52_r1082/part_1_kegg_groupings.csv\"\n",
    "kegg_df = pd.read_csv(kegg_filename)\n",
    "kegg_df = kegg_df[kegg_df[\"species\"]==\"hsa\"]\n",
    "kegg_gene_names = flatten([x.split(\"|\") for x in kegg_df[\"gene_names\"].values])\n",
    "kegg_gene_names = [g.upper() for g in kegg_gene_names]\n",
    "genes_in_snpedia_and_kegg = list(set(kegg_gene_names).intersection(set(snpedia_gene_names)))\n",
    "print(len(genes_in_snpedia_and_kegg))"
   ]
  },
  {
   "cell_type": "code",
   "execution_count": 5,
   "metadata": {},
   "outputs": [
    {
     "name": "stdout",
     "output_type": "stream",
     "text": [
      "Completed the web scraping step.\n"
     ]
    }
   ],
   "source": [
    "# The web scraping step.\n",
    "gene_num_limit = 500\n",
    "pause_after = 50\n",
    "genes_to_snps_to_text = defaultdict(dict)\n",
    "for i,gene_name in enumerate(genes_in_snpedia_and_kegg,1):\n",
    "    genes_to_snps_to_text[gene_name] = querying.gene_to_snp_texts(site, gene_name)\n",
    "    if i%pause_after == 0:\n",
    "        time.sleep(10)\n",
    "        print(i)\n",
    "    if i%gene_num_limit == 0:\n",
    "        break\n",
    "print(\"Completed the web scraping step.\")"
   ]
  },
  {
   "cell_type": "code",
   "execution_count": 6,
   "metadata": {},
   "outputs": [
    {
     "data": {
      "text/html": [
       "<div>\n",
       "<style scoped>\n",
       "    .dataframe tbody tr th:only-of-type {\n",
       "        vertical-align: middle;\n",
       "    }\n",
       "\n",
       "    .dataframe tbody tr th {\n",
       "        vertical-align: top;\n",
       "    }\n",
       "\n",
       "    .dataframe thead th {\n",
       "        text-align: right;\n",
       "    }\n",
       "</style>\n",
       "<table border=\"1\" class=\"dataframe\">\n",
       "  <thead>\n",
       "    <tr style=\"text-align: right;\">\n",
       "      <th></th>\n",
       "      <th>gene</th>\n",
       "      <th>snp</th>\n",
       "      <th>text</th>\n",
       "    </tr>\n",
       "  </thead>\n",
       "  <tbody>\n",
       "    <tr>\n",
       "      <th>15</th>\n",
       "      <td>ADA</td>\n",
       "      <td>Rs121908735</td>\n",
       "      <td>Identification of two new missense mutations (...</td>\n",
       "    </tr>\n",
       "    <tr>\n",
       "      <th>16</th>\n",
       "      <td>ADA</td>\n",
       "      <td>Rs121908736</td>\n",
       "      <td>Hot spot mutations in adenosine deaminase defi...</td>\n",
       "    </tr>\n",
       "    <tr>\n",
       "      <th>18</th>\n",
       "      <td>ADA</td>\n",
       "      <td>Rs121908738</td>\n",
       "      <td>Hot spot mutations in adenosine deaminase defi...</td>\n",
       "    </tr>\n",
       "    <tr>\n",
       "      <th>19</th>\n",
       "      <td>ADA</td>\n",
       "      <td>Rs121908739</td>\n",
       "      <td>Hot spot mutations in adenosine deaminase defi...</td>\n",
       "    </tr>\n",
       "    <tr>\n",
       "      <th>40</th>\n",
       "      <td>ADA</td>\n",
       "      <td>Rs778809577</td>\n",
       "      <td>aka c.703C&gt;T</td>\n",
       "    </tr>\n",
       "    <tr>\n",
       "      <th>49</th>\n",
       "      <td>ABCA3</td>\n",
       "      <td>Rs1278044377</td>\n",
       "      <td>aka c.316C&gt;T</td>\n",
       "    </tr>\n",
       "    <tr>\n",
       "      <th>50</th>\n",
       "      <td>ABCA3</td>\n",
       "      <td>Rs149989682</td>\n",
       "      <td>rs149989682, also known as c.875A&gt;T, p.Glu292V...</td>\n",
       "    </tr>\n",
       "    <tr>\n",
       "      <th>60</th>\n",
       "      <td>ABCD1</td>\n",
       "      <td>Rs1057517954</td>\n",
       "      <td>aka c.488G&gt;A (p.Arg163His), c.488G&gt;T (p.Arg163...</td>\n",
       "    </tr>\n",
       "    <tr>\n",
       "      <th>61</th>\n",
       "      <td>ABCD1</td>\n",
       "      <td>Rs1057518721</td>\n",
       "      <td>aka c.107C&gt;A (p.Ser36Ter)Reported in ClinVar a...</td>\n",
       "    </tr>\n",
       "    <tr>\n",
       "      <th>62</th>\n",
       "      <td>ABCD1</td>\n",
       "      <td>Rs1064793877</td>\n",
       "      <td>aka c.1895C&gt;T (p.Thr632Ile)</td>\n",
       "    </tr>\n",
       "  </tbody>\n",
       "</table>\n",
       "</div>"
      ],
      "text/plain": [
       "     gene           snp                                               text\n",
       "15    ADA   Rs121908735  Identification of two new missense mutations (...\n",
       "16    ADA   Rs121908736  Hot spot mutations in adenosine deaminase defi...\n",
       "18    ADA   Rs121908738  Hot spot mutations in adenosine deaminase defi...\n",
       "19    ADA   Rs121908739  Hot spot mutations in adenosine deaminase defi...\n",
       "40    ADA   Rs778809577                                       aka c.703C>T\n",
       "49  ABCA3  Rs1278044377                                       aka c.316C>T\n",
       "50  ABCA3   Rs149989682  rs149989682, also known as c.875A>T, p.Glu292V...\n",
       "60  ABCD1  Rs1057517954  aka c.488G>A (p.Arg163His), c.488G>T (p.Arg163...\n",
       "61  ABCD1  Rs1057518721  aka c.107C>A (p.Ser36Ter)Reported in ClinVar a...\n",
       "62  ABCD1  Rs1064793877                        aka c.1895C>T (p.Thr632Ile)"
      ]
     },
     "execution_count": 6,
     "metadata": {},
     "output_type": "execute_result"
    }
   ],
   "source": [
    "# Producing a dataset in CSV format that shows genes, SNPs, and the text that was cleaned from each page.\n",
    "\n",
    "# Create each row one at a time.\n",
    "row_tuples = []\n",
    "for gene in genes_to_snps_to_text.keys():\n",
    "    for snp,raw_text in genes_to_snps_to_text[gene].items():\n",
    "        cleaned_text = cleaning.clean_raw_page_text(raw_text)\n",
    "        row_tuples.append((gene,snp,cleaned_text))\n",
    "        \n",
    "# Generate the dataframe and subset to only include SNPs that had some amount of text extracted, and save as CSV file.\n",
    "df = pd.DataFrame(row_tuples, columns = [\"gene\",\"snp\",\"text\"])\n",
    "df = df[df[\"text\"] != \"\"]\n",
    "df.to_csv(\"dataset_sample.csv\", index=False)\n",
    "df.head(10)"
   ]
  },
  {
   "cell_type": "code",
   "execution_count": 7,
   "metadata": {},
   "outputs": [
    {
     "data": {
      "text/plain": [
       "38"
      ]
     },
     "execution_count": 7,
     "metadata": {},
     "output_type": "execute_result"
    }
   ],
   "source": [
    "# Produce a dataset in a format that can be used by the oats package.\n",
    "concatenated_text_dict = {g:\" \".join([text for text in genes_to_snps_to_text[g].values()]) for g in genes_to_snps_to_text}\n",
    "cleaned_text_dict = {g:cleaning.clean_raw_page_text(text) for g,text in concatenated_text_dict.items()}\n",
    "len(cleaned_text_dict)"
   ]
  },
  {
   "cell_type": "code",
   "execution_count": 8,
   "metadata": {},
   "outputs": [
    {
     "data": {
      "text/html": [
       "<div>\n",
       "<style scoped>\n",
       "    .dataframe tbody tr th:only-of-type {\n",
       "        vertical-align: middle;\n",
       "    }\n",
       "\n",
       "    .dataframe tbody tr th {\n",
       "        vertical-align: top;\n",
       "    }\n",
       "\n",
       "    .dataframe thead th {\n",
       "        text-align: right;\n",
       "    }\n",
       "</style>\n",
       "<table border=\"1\" class=\"dataframe\">\n",
       "  <thead>\n",
       "    <tr style=\"text-align: right;\">\n",
       "      <th></th>\n",
       "      <th>species</th>\n",
       "      <th>gene_names</th>\n",
       "      <th>description</th>\n",
       "      <th>gene_synonyms</th>\n",
       "      <th>term_ids</th>\n",
       "      <th>sources</th>\n",
       "    </tr>\n",
       "  </thead>\n",
       "  <tbody>\n",
       "    <tr>\n",
       "      <th>0</th>\n",
       "      <td>hsa</td>\n",
       "      <td>ADA</td>\n",
       "      <td>Identification of two new missense mutations (...</td>\n",
       "      <td></td>\n",
       "      <td></td>\n",
       "      <td>SNPedia</td>\n",
       "    </tr>\n",
       "    <tr>\n",
       "      <th>1</th>\n",
       "      <td>hsa</td>\n",
       "      <td>ABCA3</td>\n",
       "      <td>aka c.316C&gt;T rs149989682, also known as c.875A...</td>\n",
       "      <td></td>\n",
       "      <td></td>\n",
       "      <td>SNPedia</td>\n",
       "    </tr>\n",
       "    <tr>\n",
       "      <th>2</th>\n",
       "      <td>hsa</td>\n",
       "      <td>ABCD1</td>\n",
       "      <td>aka c.488G&gt;A (p.Arg163His), c.488G&gt;T (p.Arg163...</td>\n",
       "      <td></td>\n",
       "      <td></td>\n",
       "      <td>SNPedia</td>\n",
       "    </tr>\n",
       "    <tr>\n",
       "      <th>3</th>\n",
       "      <td>hsa</td>\n",
       "      <td>ABCG2</td>\n",
       "      <td>A gene-wide investigation on polymorphisms in ...</td>\n",
       "      <td></td>\n",
       "      <td></td>\n",
       "      <td>SNPedia</td>\n",
       "    </tr>\n",
       "    <tr>\n",
       "      <th>4</th>\n",
       "      <td>hsa</td>\n",
       "      <td>ACVRL1</td>\n",
       "      <td></td>\n",
       "      <td></td>\n",
       "      <td></td>\n",
       "      <td>SNPedia</td>\n",
       "    </tr>\n",
       "    <tr>\n",
       "      <th>5</th>\n",
       "      <td>hsa</td>\n",
       "      <td>ABCB6</td>\n",
       "      <td></td>\n",
       "      <td></td>\n",
       "      <td></td>\n",
       "      <td>SNPedia</td>\n",
       "    </tr>\n",
       "    <tr>\n",
       "      <th>6</th>\n",
       "      <td>hsa</td>\n",
       "      <td>ABCC2</td>\n",
       "      <td>rs2273697, also known as c1249G&gt;A or p.V471I, ...</td>\n",
       "      <td></td>\n",
       "      <td></td>\n",
       "      <td>SNPedia</td>\n",
       "    </tr>\n",
       "    <tr>\n",
       "      <th>7</th>\n",
       "      <td>hsa</td>\n",
       "      <td>ABCC8</td>\n",
       "      <td>Familial Hyperinsulinism (ABCC8-related)/ Fami...</td>\n",
       "      <td></td>\n",
       "      <td></td>\n",
       "      <td>SNPedia</td>\n",
       "    </tr>\n",
       "    <tr>\n",
       "      <th>8</th>\n",
       "      <td>hsa</td>\n",
       "      <td>ABCB1</td>\n",
       "      <td>rs10248420 is a SNP in the ABCB1 gene (also kn...</td>\n",
       "      <td></td>\n",
       "      <td></td>\n",
       "      <td>SNPedia</td>\n",
       "    </tr>\n",
       "    <tr>\n",
       "      <th>9</th>\n",
       "      <td>hsa</td>\n",
       "      <td>ADAM10</td>\n",
       "      <td>rs145518263Alzheimer's disease assocation rs61...</td>\n",
       "      <td></td>\n",
       "      <td></td>\n",
       "      <td>SNPedia</td>\n",
       "    </tr>\n",
       "  </tbody>\n",
       "</table>\n",
       "</div>"
      ],
      "text/plain": [
       "  species gene_names                                        description  \\\n",
       "0     hsa        ADA  Identification of two new missense mutations (...   \n",
       "1     hsa      ABCA3  aka c.316C>T rs149989682, also known as c.875A...   \n",
       "2     hsa      ABCD1  aka c.488G>A (p.Arg163His), c.488G>T (p.Arg163...   \n",
       "3     hsa      ABCG2  A gene-wide investigation on polymorphisms in ...   \n",
       "4     hsa     ACVRL1                                                      \n",
       "5     hsa      ABCB6                                                      \n",
       "6     hsa      ABCC2  rs2273697, also known as c1249G>A or p.V471I, ...   \n",
       "7     hsa      ABCC8  Familial Hyperinsulinism (ABCC8-related)/ Fami...   \n",
       "8     hsa      ABCB1  rs10248420 is a SNP in the ABCB1 gene (also kn...   \n",
       "9     hsa     ADAM10  rs145518263Alzheimer's disease assocation rs61...   \n",
       "\n",
       "  gene_synonyms term_ids  sources  \n",
       "0                         SNPedia  \n",
       "1                         SNPedia  \n",
       "2                         SNPedia  \n",
       "3                         SNPedia  \n",
       "4                         SNPedia  \n",
       "5                         SNPedia  \n",
       "6                         SNPedia  \n",
       "7                         SNPedia  \n",
       "8                         SNPedia  \n",
       "9                         SNPedia  "
      ]
     },
     "execution_count": 8,
     "metadata": {},
     "output_type": "execute_result"
    }
   ],
   "source": [
    "# Make a dataframe that has this information in it.\n",
    "row_tuples = []\n",
    "for gene,text in cleaned_text_dict.items():\n",
    "    row_tuples.append((\"hsa\",gene,text))\n",
    "\n",
    "# Generate the dataframe and save as a CSV file.\n",
    "df = pd.DataFrame(row_tuples, columns=[\"species\",\"gene_names\",\"description\"])\n",
    "df[\"gene_synonyms\"] = \"\"\n",
    "df[\"term_ids\"] = \"\"\n",
    "df[\"sources\"] = \"SNPedia\"\n",
    "df.to_csv(\"dataset_sample_for_oats.csv\", index=False)\n",
    "df.head(10)        "
   ]
  }
 ],
 "metadata": {
  "kernelspec": {
   "display_name": "Python 3",
   "language": "python",
   "name": "python3"
  },
  "language_info": {
   "codemirror_mode": {
    "name": "ipython",
    "version": 3
   },
   "file_extension": ".py",
   "mimetype": "text/x-python",
   "name": "python",
   "nbconvert_exporter": "python",
   "pygments_lexer": "ipython3",
   "version": "3.6.10"
  }
 },
 "nbformat": 4,
 "nbformat_minor": 4
}
