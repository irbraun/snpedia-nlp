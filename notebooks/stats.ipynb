{
 "cells": [
  {
   "cell_type": "code",
   "execution_count": 6,
   "metadata": {},
   "outputs": [],
   "source": [
    "import pandas as pd\n",
    "import seaborn as sn\n",
    "from nltk import word_tokenize"
   ]
  },
  {
   "cell_type": "code",
   "execution_count": 4,
   "metadata": {},
   "outputs": [
    {
     "data": {
      "text/html": [
       "<div>\n",
       "<style scoped>\n",
       "    .dataframe tbody tr th:only-of-type {\n",
       "        vertical-align: middle;\n",
       "    }\n",
       "\n",
       "    .dataframe tbody tr th {\n",
       "        vertical-align: top;\n",
       "    }\n",
       "\n",
       "    .dataframe thead th {\n",
       "        text-align: right;\n",
       "    }\n",
       "</style>\n",
       "<table border=\"1\" class=\"dataframe\">\n",
       "  <thead>\n",
       "    <tr style=\"text-align: right;\">\n",
       "      <th></th>\n",
       "      <th>gene</th>\n",
       "      <th>snp</th>\n",
       "      <th>text</th>\n",
       "    </tr>\n",
       "  </thead>\n",
       "  <tbody>\n",
       "    <tr>\n",
       "      <th>0</th>\n",
       "      <td>CARD14</td>\n",
       "      <td>Rs144475004</td>\n",
       "      <td>rs144475004, also known as c.526G&gt;C, p.Asp176H...</td>\n",
       "    </tr>\n",
       "    <tr>\n",
       "      <th>1</th>\n",
       "      <td>CARD14</td>\n",
       "      <td>Rs281875212</td>\n",
       "      <td>rs281875212, also known as c.424G&gt;A, p.Glu142L...</td>\n",
       "    </tr>\n",
       "    <tr>\n",
       "      <th>2</th>\n",
       "      <td>CARD14</td>\n",
       "      <td>Rs281875213</td>\n",
       "      <td>rs281875213, also known as c.425A&gt;G, p.Glu142G...</td>\n",
       "    </tr>\n",
       "    <tr>\n",
       "      <th>3</th>\n",
       "      <td>CARD14</td>\n",
       "      <td>Rs281875214</td>\n",
       "      <td>rs281875214, also known as c.413A&gt;C, p.Glu138A...</td>\n",
       "    </tr>\n",
       "    <tr>\n",
       "      <th>4</th>\n",
       "      <td>CARD14</td>\n",
       "      <td>Rs281875215</td>\n",
       "      <td>rs281875215, also known as c.349G&gt;A, p.Gly117S...</td>\n",
       "    </tr>\n",
       "    <tr>\n",
       "      <th>5</th>\n",
       "      <td>CARD14</td>\n",
       "      <td>Rs387907240</td>\n",
       "      <td>rs387907240, also known as c.467T&gt;C, p.Leu156P...</td>\n",
       "    </tr>\n",
       "    <tr>\n",
       "      <th>6</th>\n",
       "      <td>CARD14</td>\n",
       "      <td>Rs587777763</td>\n",
       "      <td>rs587777763, also known as c.349+5G&gt;A, represe...</td>\n",
       "    </tr>\n",
       "    <tr>\n",
       "      <th>7</th>\n",
       "      <td>ADAM10</td>\n",
       "      <td>I6006817</td>\n",
       "      <td>rs145518263Alzheimer's disease assocation</td>\n",
       "    </tr>\n",
       "    <tr>\n",
       "      <th>8</th>\n",
       "      <td>ADAM10</td>\n",
       "      <td>I6006818</td>\n",
       "      <td>rs61751103Alzheimer's disease assocation</td>\n",
       "    </tr>\n",
       "    <tr>\n",
       "      <th>9</th>\n",
       "      <td>ADAM10</td>\n",
       "      <td>Rs145518263</td>\n",
       "      <td>rs145518263, also known as R181G or Arg181Gly,...</td>\n",
       "    </tr>\n",
       "    <tr>\n",
       "      <th>10</th>\n",
       "      <td>ADAM10</td>\n",
       "      <td>Rs61751103</td>\n",
       "      <td>rs61751103, also known as Q170H or Gln170His, ...</td>\n",
       "    </tr>\n",
       "    <tr>\n",
       "      <th>11</th>\n",
       "      <td>NRG1</td>\n",
       "      <td>Rs3924999</td>\n",
       "      <td>a significant association between rs3924999 an...</td>\n",
       "    </tr>\n",
       "    <tr>\n",
       "      <th>12</th>\n",
       "      <td>NRG1</td>\n",
       "      <td>Rs6994992</td>\n",
       "      <td>also known as SNP8NRG243177Initial reports of ...</td>\n",
       "    </tr>\n",
       "    <tr>\n",
       "      <th>13</th>\n",
       "      <td>NRG1</td>\n",
       "      <td>Rs6996585</td>\n",
       "      <td>GWAS and a replication study in Koreans using ...</td>\n",
       "    </tr>\n",
       "    <tr>\n",
       "      <th>14</th>\n",
       "      <td>NRG1</td>\n",
       "      <td>Rs7835688</td>\n",
       "      <td>Fine mapping of the NRG1 Hirschsprung's diseas...</td>\n",
       "    </tr>\n",
       "    <tr>\n",
       "      <th>15</th>\n",
       "      <td>PRKCH</td>\n",
       "      <td>Rs2230500</td>\n",
       "      <td>A common SNP only in Asian populations, this S...</td>\n",
       "    </tr>\n",
       "    <tr>\n",
       "      <th>16</th>\n",
       "      <td>PRKCH</td>\n",
       "      <td>Rs3783782</td>\n",
       "      <td>One of 42 more SNPs associated with rheumatoid...</td>\n",
       "    </tr>\n",
       "    <tr>\n",
       "      <th>17</th>\n",
       "      <td>PRKCH</td>\n",
       "      <td>Rs3783799</td>\n",
       "      <td>A common SNP only in Asian populations, this S...</td>\n",
       "    </tr>\n",
       "    <tr>\n",
       "      <th>18</th>\n",
       "      <td>APOA2</td>\n",
       "      <td>Rs3813627</td>\n",
       "      <td>Candidate genetic analysis of plasma high-dens...</td>\n",
       "    </tr>\n",
       "    <tr>\n",
       "      <th>19</th>\n",
       "      <td>APOA2</td>\n",
       "      <td>Rs5082</td>\n",
       "      <td>rs5082 is a SNP in the apolipoprotein APOA2 ge...</td>\n",
       "    </tr>\n",
       "  </tbody>\n",
       "</table>\n",
       "</div>"
      ],
      "text/plain": [
       "      gene          snp                                               text\n",
       "0   CARD14  Rs144475004  rs144475004, also known as c.526G>C, p.Asp176H...\n",
       "1   CARD14  Rs281875212  rs281875212, also known as c.424G>A, p.Glu142L...\n",
       "2   CARD14  Rs281875213  rs281875213, also known as c.425A>G, p.Glu142G...\n",
       "3   CARD14  Rs281875214  rs281875214, also known as c.413A>C, p.Glu138A...\n",
       "4   CARD14  Rs281875215  rs281875215, also known as c.349G>A, p.Gly117S...\n",
       "5   CARD14  Rs387907240  rs387907240, also known as c.467T>C, p.Leu156P...\n",
       "6   CARD14  Rs587777763  rs587777763, also known as c.349+5G>A, represe...\n",
       "7   ADAM10     I6006817          rs145518263Alzheimer's disease assocation\n",
       "8   ADAM10     I6006818           rs61751103Alzheimer's disease assocation\n",
       "9   ADAM10  Rs145518263  rs145518263, also known as R181G or Arg181Gly,...\n",
       "10  ADAM10   Rs61751103  rs61751103, also known as Q170H or Gln170His, ...\n",
       "11    NRG1    Rs3924999  a significant association between rs3924999 an...\n",
       "12    NRG1    Rs6994992  also known as SNP8NRG243177Initial reports of ...\n",
       "13    NRG1    Rs6996585  GWAS and a replication study in Koreans using ...\n",
       "14    NRG1    Rs7835688  Fine mapping of the NRG1 Hirschsprung's diseas...\n",
       "15   PRKCH    Rs2230500  A common SNP only in Asian populations, this S...\n",
       "16   PRKCH    Rs3783782  One of 42 more SNPs associated with rheumatoid...\n",
       "17   PRKCH    Rs3783799  A common SNP only in Asian populations, this S...\n",
       "18   APOA2    Rs3813627  Candidate genetic analysis of plasma high-dens...\n",
       "19   APOA2       Rs5082  rs5082 is a SNP in the apolipoprotein APOA2 ge..."
      ]
     },
     "execution_count": 4,
     "metadata": {},
     "output_type": "execute_result"
    }
   ],
   "source": [
    "path = \"../datasets/dataset_full.csv\"\n",
    "df = pd.read_csv(path)\n",
    "df.head(20)"
   ]
  },
  {
   "cell_type": "code",
   "execution_count": 22,
   "metadata": {},
   "outputs": [
    {
     "data": {
      "text/plain": [
       "5214"
      ]
     },
     "execution_count": 22,
     "metadata": {},
     "output_type": "execute_result"
    }
   ],
   "source": [
    "texts = df[\"text\"].values\n",
    "len(texts)"
   ]
  },
  {
   "cell_type": "code",
   "execution_count": 24,
   "metadata": {},
   "outputs": [
    {
     "data": {
      "text/plain": [
       "4361"
      ]
     },
     "execution_count": 24,
     "metadata": {},
     "output_type": "execute_result"
    }
   ],
   "source": [
    "unique_texts = pd.unique(df[\"text\"])\n",
    "len(unique_texts)"
   ]
  },
  {
   "cell_type": "code",
   "execution_count": null,
   "metadata": {},
   "outputs": [],
   "source": []
  },
  {
   "cell_type": "code",
   "execution_count": 25,
   "metadata": {},
   "outputs": [
    {
     "data": {
      "text/plain": [
       "<matplotlib.axes._subplots.AxesSubplot at 0x11d9f69e8>"
      ]
     },
     "execution_count": 25,
     "metadata": {},
     "output_type": "execute_result"
    },
    {
     "data": {
      "image/png": "[encoded data removed]",
      "text/plain": [
       "<Figure size 432x288 with 1 Axes>"
      ]
     },
     "metadata": {
      "needs_background": "light"
     },
     "output_type": "display_data"
    }
   ],
   "source": [
    "word_num_distribution = [len(word_tokenize(x)) for x in unique_texts]\n",
    "sn.distplot(word_num_distribution)"
   ]
  },
  {
   "cell_type": "code",
   "execution_count": 17,
   "metadata": {},
   "outputs": [
    {
     "data": {
      "text/plain": [
       "<matplotlib.axes._subplots.AxesSubplot at 0x11dbc84a8>"
      ]
     },
     "execution_count": 17,
     "metadata": {},
     "output_type": "execute_result"
    },
    {
     "data": {
      "image/png": "[encoded data removed]",
      "text/plain": [
       "<Figure size 432x288 with 1 Axes>"
      ]
     },
     "metadata": {
      "needs_background": "light"
     },
     "output_type": "display_data"
    }
   ],
   "source": [
    "# Make a plot that shows exactly how many are in specific categories we could group with.\n",
    "bins = [0,10,50,100,1000]\n",
    "sn.distplot(word_num_distribution, bins=bins, norm_hist=False, kde=False)"
   ]
  },
  {
   "cell_type": "code",
   "execution_count": 21,
   "metadata": {},
   "outputs": [
    {
     "name": "stdout",
     "output_type": "stream",
     "text": [
      "For range 0 to 10 there are 1477\n",
      "For range 10 to 50 there are 2088\n",
      "For range 50 to 100 there are 821\n",
      "For range 100 to 1000 there are 813\n"
     ]
    }
   ],
   "source": [
    "# What is the number of texts that fall in n_0 <= x < n_1 for each bin?\n",
    "for lower,upper in zip(bins[0:len(bins)-1], bins[1:len(bins)]):\n",
    "    count = sum([(x>=lower and x<upper) for x in word_num_distribution])\n",
    "    print(\"For range {} to {} there are {}\".format(lower,upper,count))"
   ]
  }
 ],
 "metadata": {
  "kernelspec": {
   "display_name": "Python 3",
   "language": "python",
   "name": "python3"
  },
  "language_info": {
   "codemirror_mode": {
    "name": "ipython",
    "version": 3
   },
   "file_extension": ".py",
   "mimetype": "text/x-python",
   "name": "python",
   "nbconvert_exporter": "python",
   "pygments_lexer": "ipython3",
   "version": "3.6.10"
  }
 },
 "nbformat": 4,
 "nbformat_minor": 4
}
