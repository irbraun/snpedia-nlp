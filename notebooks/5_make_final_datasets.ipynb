{
 "cells": [
  {
   "cell_type": "markdown",
   "metadata": {},
   "source": [
    "### Make Final Datasets\n",
    "The purpose of this notebook is to create the final datasets of snippets and contexts by combining output files from multiple survey responses here. The paths to the output files in the data directory that should be row stacked are defined here and the final files are created."
   ]
  },
  {
   "cell_type": "code",
   "execution_count": 5,
   "metadata": {},
   "outputs": [],
   "source": [
    "from pathlib import Path\n",
    "import pandas as pd\n",
    "import random\n",
    "import os\n",
    "import datetime"
   ]
  },
  {
   "cell_type": "code",
   "execution_count": 6,
   "metadata": {},
   "outputs": [],
   "source": [
    "def rowstack_dataframes(paths, outfile_path):\n",
    "    dfs = []\n",
    "    for path in paths:\n",
    "        dfs.append(pd.read_csv(path))\n",
    "    df = pd.concat(dfs)\n",
    "    df.drop_duplicates(inplace=True)\n",
    "    df.reset_index(drop=True, inplace=True)\n",
    "    df.to_csv(outfile_path, index=False, sep=\"\\t\")\n",
    "    return(df)"
   ]
  },
  {
   "cell_type": "code",
   "execution_count": 7,
   "metadata": {},
   "outputs": [],
   "source": [
    "# Create the full dataset of genes and text snippets.\n",
    "name = \"../genes_snps_snippets.tsv\"\n",
    "paths = [\n",
    "    \"../data/S301881_snps_and_snippets_09_25_2020_h23m31s22.csv\", # First survey\n",
    "    \"../data/S195681_snps_and_snippets_10_01_2020_h23m32s48.csv\", # Second survey\n",
    "]\n",
    "df = rowstack_dataframes(paths,name)"
   ]
  },
  {
   "cell_type": "code",
   "execution_count": 10,
   "metadata": {},
   "outputs": [
    {
     "data": {
      "text/html": [
       "<div>\n",
       "<style scoped>\n",
       "    .dataframe tbody tr th:only-of-type {\n",
       "        vertical-align: middle;\n",
       "    }\n",
       "\n",
       "    .dataframe tbody tr th {\n",
       "        vertical-align: top;\n",
       "    }\n",
       "\n",
       "    .dataframe thead th {\n",
       "        text-align: right;\n",
       "    }\n",
       "</style>\n",
       "<table border=\"1\" class=\"dataframe\">\n",
       "  <thead>\n",
       "    <tr style=\"text-align: right;\">\n",
       "      <th></th>\n",
       "      <th>gene</th>\n",
       "      <th>snp</th>\n",
       "      <th>snippet</th>\n",
       "    </tr>\n",
       "  </thead>\n",
       "  <tbody>\n",
       "    <tr>\n",
       "      <th>0</th>\n",
       "      <td>AANAT</td>\n",
       "      <td>Rs3760138</td>\n",
       "      <td>autism</td>\n",
       "    </tr>\n",
       "    <tr>\n",
       "      <th>1</th>\n",
       "      <td>ABCA1</td>\n",
       "      <td>Rs2230808</td>\n",
       "      <td>Alzheimer's disease</td>\n",
       "    </tr>\n",
       "    <tr>\n",
       "      <th>2</th>\n",
       "      <td>ABCA1</td>\n",
       "      <td>Rs2230808</td>\n",
       "      <td>polymorphisms and Alzheimer's disease.</td>\n",
       "    </tr>\n",
       "    <tr>\n",
       "      <th>3</th>\n",
       "      <td>ABCA1</td>\n",
       "      <td>Rs2230808</td>\n",
       "      <td>schizophrenia and related brain changes.</td>\n",
       "    </tr>\n",
       "    <tr>\n",
       "      <th>4</th>\n",
       "      <td>ABCA1</td>\n",
       "      <td>Rs2230808</td>\n",
       "      <td>polymorphism</td>\n",
       "    </tr>\n",
       "  </tbody>\n",
       "</table>\n",
       "</div>"
      ],
      "text/plain": [
       "    gene        snp                                   snippet\n",
       "0  AANAT  Rs3760138                                    autism\n",
       "1  ABCA1  Rs2230808                       Alzheimer's disease\n",
       "2  ABCA1  Rs2230808    polymorphisms and Alzheimer's disease.\n",
       "3  ABCA1  Rs2230808  schizophrenia and related brain changes.\n",
       "4  ABCA1  Rs2230808                              polymorphism"
      ]
     },
     "execution_count": 10,
     "metadata": {},
     "output_type": "execute_result"
    }
   ],
   "source": [
    "df.head()"
   ]
  },
  {
   "cell_type": "code",
   "execution_count": 11,
   "metadata": {},
   "outputs": [
    {
     "data": {
      "text/plain": [
       "(22767, 3)"
      ]
     },
     "execution_count": 11,
     "metadata": {},
     "output_type": "execute_result"
    }
   ],
   "source": [
    "df.shape"
   ]
  },
  {
   "cell_type": "code",
   "execution_count": 12,
   "metadata": {},
   "outputs": [
    {
     "data": {
      "text/plain": [
       "1251"
      ]
     },
     "execution_count": 12,
     "metadata": {},
     "output_type": "execute_result"
    }
   ],
   "source": [
    "len(pd.unique(df[\"gene\"]))"
   ]
  },
  {
   "cell_type": "code",
   "execution_count": 13,
   "metadata": {},
   "outputs": [],
   "source": [
    "# Create the full dataset of genes and context sentences.\n",
    "name = \"../genes_snps_contexts.tsv\"\n",
    "paths = [\n",
    "    \"../data/S301881_snps_and_contexts_09_25_2020_h23m31s22.csv\", # First survey\n",
    "    \"../data/S195681_snps_and_contexts_10_01_2020_h23m32s48.csv\", # Second survey\n",
    "]\n",
    "df = rowstack_dataframes(paths,name)"
   ]
  },
  {
   "cell_type": "code",
   "execution_count": 14,
   "metadata": {},
   "outputs": [
    {
     "data": {
      "text/html": [
       "<div>\n",
       "<style scoped>\n",
       "    .dataframe tbody tr th:only-of-type {\n",
       "        vertical-align: middle;\n",
       "    }\n",
       "\n",
       "    .dataframe tbody tr th {\n",
       "        vertical-align: top;\n",
       "    }\n",
       "\n",
       "    .dataframe thead th {\n",
       "        text-align: right;\n",
       "    }\n",
       "</style>\n",
       "<table border=\"1\" class=\"dataframe\">\n",
       "  <thead>\n",
       "    <tr style=\"text-align: right;\">\n",
       "      <th></th>\n",
       "      <th>gene</th>\n",
       "      <th>snp</th>\n",
       "      <th>context</th>\n",
       "    </tr>\n",
       "  </thead>\n",
       "  <tbody>\n",
       "    <tr>\n",
       "      <th>0</th>\n",
       "      <td>AANAT</td>\n",
       "      <td>Rs3760138</td>\n",
       "      <td>Examination of association of genes in the ser...</td>\n",
       "    </tr>\n",
       "    <tr>\n",
       "      <th>1</th>\n",
       "      <td>ABCA1</td>\n",
       "      <td>Rs2297404</td>\n",
       "      <td>rs2297404, rs2230808, and rs2020927 haplotype ...</td>\n",
       "    </tr>\n",
       "    <tr>\n",
       "      <th>2</th>\n",
       "      <td>ABCA1</td>\n",
       "      <td>Rs2230808</td>\n",
       "      <td>A polymorphism of the ABCA1 gene confers susce...</td>\n",
       "    </tr>\n",
       "    <tr>\n",
       "      <th>3</th>\n",
       "      <td>ABCA1</td>\n",
       "      <td>Rs2230806</td>\n",
       "      <td>Increase in HDL-C concentration by a dietary p...</td>\n",
       "    </tr>\n",
       "    <tr>\n",
       "      <th>4</th>\n",
       "      <td>ABCA1</td>\n",
       "      <td>Rs4149268</td>\n",
       "      <td>G allele is associated with 0.82mg/dl increase...</td>\n",
       "    </tr>\n",
       "  </tbody>\n",
       "</table>\n",
       "</div>"
      ],
      "text/plain": [
       "    gene        snp                                            context\n",
       "0  AANAT  Rs3760138  Examination of association of genes in the ser...\n",
       "1  ABCA1  Rs2297404  rs2297404, rs2230808, and rs2020927 haplotype ...\n",
       "2  ABCA1  Rs2230808  A polymorphism of the ABCA1 gene confers susce...\n",
       "3  ABCA1  Rs2230806  Increase in HDL-C concentration by a dietary p...\n",
       "4  ABCA1  Rs4149268  G allele is associated with 0.82mg/dl increase..."
      ]
     },
     "execution_count": 14,
     "metadata": {},
     "output_type": "execute_result"
    }
   ],
   "source": [
    "df.head()"
   ]
  },
  {
   "cell_type": "code",
   "execution_count": 15,
   "metadata": {},
   "outputs": [
    {
     "data": {
      "text/plain": [
       "(5918, 3)"
      ]
     },
     "execution_count": 15,
     "metadata": {},
     "output_type": "execute_result"
    }
   ],
   "source": [
    "df.shape"
   ]
  },
  {
   "cell_type": "code",
   "execution_count": 16,
   "metadata": {},
   "outputs": [
    {
     "data": {
      "text/plain": [
       "1247"
      ]
     },
     "execution_count": 16,
     "metadata": {},
     "output_type": "execute_result"
    }
   ],
   "source": [
    "len(pd.unique(df[\"gene\"]))"
   ]
  }
 ],
 "metadata": {
  "kernelspec": {
   "display_name": "Python 3",
   "language": "python",
   "name": "python3"
  },
  "language_info": {
   "codemirror_mode": {
    "name": "ipython",
    "version": 3
   },
   "file_extension": ".py",
   "mimetype": "text/x-python",
   "name": "python",
   "nbconvert_exporter": "python",
   "pygments_lexer": "ipython3",
   "version": "3.6.10"
  }
 },
 "nbformat": 4,
 "nbformat_minor": 4
}
