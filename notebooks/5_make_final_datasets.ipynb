{
 "cells": [
  {
   "cell_type": "code",
   "execution_count": null,
   "metadata": {},
   "outputs": [],
   "source": [
    "from pathlib import Path\n",
    "import pandas as pd\n",
    "import random\n",
    "import os\n",
    "import datetime"
   ]
  },
  {
   "cell_type": "code",
   "execution_count": null,
   "metadata": {},
   "outputs": [],
   "source": [
    "def rowstack_dataframes(paths, outfile_path):\n",
    "    dfs = []\n",
    "    for path in paths:\n",
    "        dfs.append(pd.read_csv(path))\n",
    "    df = pd.concat(dfs)\n",
    "    df.drop_duplicates(inplace=True)\n",
    "    df.reset_index(drop=True, inplace=True)\n",
    "    df.to_csv(outfile_path, index=False, sep=\"\\t\")"
   ]
  },
  {
   "cell_type": "code",
   "execution_count": null,
   "metadata": {},
   "outputs": [],
   "source": [
    "# Create the full dataset of genes and text snippets.\n",
    "name = \"../genes_snps_snippets.tsv\"\n",
    "paths = [\n",
    "    \"../data/S236523_snps_and_snippets_09_25_2020_h14m27s12.csv\",\n",
    "    \"../data/S236523_snps_and_snippets_09_25_2020_h14m27s12.csv\",\n",
    "]\n",
    "rowstack_dataframes(paths,name)\n",
    "\n",
    "\n",
    "\n"
   ]
  },
  {
   "cell_type": "code",
   "execution_count": null,
   "metadata": {},
   "outputs": [],
   "source": [
    "# Create the full dataset of genes and context sentences.\n",
    "name = \"../genes_snps_contexts.tsv\"\n",
    "paths = [\n",
    "    \"../data/S236523_snps_and_contexts_09_25_2020_h14m27s12.csv\",\n",
    "    \"../data/S236523_snps_and_contexts_09_25_2020_h14m27s12.csv\",\n",
    "]\n",
    "rowstack_dataframes(paths,name)\n",
    "\n",
    "\n"
   ]
  }
 ],
 "metadata": {
  "kernelspec": {
   "display_name": "Python 3",
   "language": "python",
   "name": "python3"
  },
  "language_info": {
   "codemirror_mode": {
    "name": "ipython",
    "version": 3
   },
   "file_extension": ".py",
   "mimetype": "text/x-python",
   "name": "python",
   "nbconvert_exporter": "python",
   "pygments_lexer": "ipython3",
   "version": "3.6.10"
  }
 },
 "nbformat": 4,
 "nbformat_minor": 4
}
