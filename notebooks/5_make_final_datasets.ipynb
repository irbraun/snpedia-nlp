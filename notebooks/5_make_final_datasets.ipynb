{
 "cells": [
  {
   "cell_type": "markdown",
   "metadata": {},
   "source": [
    "### Make Final Datasets\n",
    "The purpose of this notebook is to create the final datasets of snippets and contexts by combining output files from multiple survey responses here. The paths to the output files in the data directory that should be row stacked are defined here and the final files are created."
   ]
  },
  {
   "cell_type": "code",
   "execution_count": null,
   "metadata": {},
   "outputs": [],
   "source": [
    "from pathlib import Path\n",
    "import pandas as pd\n",
    "import random\n",
    "import os\n",
    "import datetime"
   ]
  },
  {
   "cell_type": "code",
   "execution_count": null,
   "metadata": {},
   "outputs": [],
   "source": [
    "def rowstack_dataframes(paths, outfile_path):\n",
    "    dfs = []\n",
    "    for path in paths:\n",
    "        dfs.append(pd.read_csv(path))\n",
    "    df = pd.concat(dfs)\n",
    "    df.drop_duplicates(inplace=True)\n",
    "    df.reset_index(drop=True, inplace=True)\n",
    "    df.to_csv(outfile_path, index=False, sep=\"\\t\")"
   ]
  },
  {
   "cell_type": "code",
   "execution_count": null,
   "metadata": {},
   "outputs": [],
   "source": [
    "# Create the full dataset of genes and text snippets.\n",
    "name = \"../genes_snps_snippets.tsv\"\n",
    "paths = [\n",
    "    \"../data/S236523_snps_and_snippets_09_25_2020_h14m27s12.csv\",\n",
    "    \"../data/S236523_snps_and_snippets_09_25_2020_h14m27s12.csv\",\n",
    "]\n",
    "rowstack_dataframes(paths,name)"
   ]
  },
  {
   "cell_type": "code",
   "execution_count": null,
   "metadata": {},
   "outputs": [],
   "source": [
    "# Create the full dataset of genes and context sentences.\n",
    "name = \"../genes_snps_contexts.tsv\"\n",
    "paths = [\n",
    "    \"../data/S236523_snps_and_contexts_09_25_2020_h14m27s12.csv\",\n",
    "    \"../data/S236523_snps_and_contexts_09_25_2020_h14m27s12.csv\",\n",
    "]\n",
    "rowstack_dataframes(paths,name)"
   ]
  }
 ],
 "metadata": {
  "kernelspec": {
   "display_name": "Python 3",
   "language": "python",
   "name": "python3"
  },
  "language_info": {
   "codemirror_mode": {
    "name": "ipython",
    "version": 3
   },
   "file_extension": ".py",
   "mimetype": "text/x-python",
   "name": "python",
   "nbconvert_exporter": "python",
   "pygments_lexer": "ipython3",
   "version": "3.6.10"
  }
 },
 "nbformat": 4,
 "nbformat_minor": 4
}
