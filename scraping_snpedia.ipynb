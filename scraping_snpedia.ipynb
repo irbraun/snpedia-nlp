{
 "cells": [
  {
   "cell_type": "markdown",
   "metadata": {},
   "source": [
    "### Description\n",
    "This notebook focuses on scraping the SNPedia website using the MediaWiki API to build a dataframe containing the raw text associated with each SNP associated with each gene. The raw texts are then preprocessed as a preliminary cleaning step to build a second dataset. This dataset is reshaped to be able to be able to easily read in by some other packages but the underlying data is the same. Some additional information is added to this dataframe, including whether or not each gene was mapped in some additional resources, such as the KEGG biochemical pathways database, informed by additional files from other repositories."
   ]
  },
  {
   "cell_type": "code",
   "execution_count": 1,
   "metadata": {},
   "outputs": [],
   "source": [
    "from collections import defaultdict\n",
    "import pandas as pd\n",
    "import re\n",
    "import os\n",
    "import sys\n",
    "import time\n",
    "import mwclient\n",
    "import utils"
   ]
  },
  {
   "cell_type": "code",
   "execution_count": 2,
   "metadata": {},
   "outputs": [
    {
     "name": "stdout",
     "output_type": "stream",
     "text": [
      "done\n"
     ]
    }
   ],
   "source": [
    "# Get a list of the genes on SNPedia.\n",
    "site = mwclient.Site('bots.snpedia.com', path=\"/\")\n",
    "snpedia_gene_names = [page.name for page in site.Categories[\"Is_a_gene\"]]\n",
    "print(\"done\")"
   ]
  },
  {
   "cell_type": "code",
   "execution_count": 3,
   "metadata": {},
   "outputs": [
    {
     "name": "stdout",
     "output_type": "stream",
     "text": [
      "2161\n"
     ]
    }
   ],
   "source": [
    "# How many genes are on SNPedia?\n",
    "print(len(snpedia_gene_names))"
   ]
  },
  {
   "cell_type": "code",
   "execution_count": 4,
   "metadata": {},
   "outputs": [
    {
     "name": "stdout",
     "output_type": "stream",
     "text": [
      "['A4GALT', 'AANAT', 'AARS', 'AARS2', 'ABCA1', 'ABCA12', 'ABCA3', 'ABCA4', 'ABCA7', 'ABCB1']\n"
     ]
    }
   ],
   "source": [
    "# What are the first few values in the list of gene names recovered?\n",
    "print(snpedia_gene_names[:10])"
   ]
  },
  {
   "cell_type": "code",
   "execution_count": 5,
   "metadata": {},
   "outputs": [
    {
     "name": "stdout",
     "output_type": "stream",
     "text": [
      "32120\n"
     ]
    }
   ],
   "source": [
    "# Read in a file that has the list of genes that are mentioned in the KEGG biochemical pathways database.\n",
    "# This file was built using the KEGG REST API, would have to rerun the pipeline to produces it to get current results.\n",
    "kegg_df = pd.read_csv(os.path.join(\"data\",\"kegg_hsa_pathways.csv\"))\n",
    "kegg_gene_identifiers = utils.flatten([gene_identifiers.split(\"|\") for gene_identifiers in kegg_df[\"gene_identifiers\"].values])\n",
    "kegg_gene_identifier_set = set(kegg_gene_identifiers)\n",
    "print(len(kegg_gene_identifier_set))"
   ]
  },
  {
   "cell_type": "code",
   "execution_count": 6,
   "metadata": {},
   "outputs": [
    {
     "name": "stdout",
     "output_type": "stream",
     "text": [
      "2161\n",
      "1379\n"
     ]
    }
   ],
   "source": [
    "# How many of the genes in SNPedia also have an entry in KEGG?\n",
    "kegg_gene_identifier_set_lowercased = set([g.lower() for g in list(kegg_gene_identifier_set)])\n",
    "is_in_kegg = {gene:(gene.lower() in kegg_gene_identifier_set_lowercased) for gene in snpedia_gene_names}\n",
    "print(len(is_in_kegg))\n",
    "print(sum(is_in_kegg.values()))"
   ]
  },
  {
   "cell_type": "code",
   "execution_count": 7,
   "metadata": {},
   "outputs": [
    {
     "name": "stdout",
     "output_type": "stream",
     "text": [
      "9\n"
     ]
    }
   ],
   "source": [
    "# Should we proceed with all of those genes, or just a subset of them? \n",
    "# Supposed to be used for testing, not when running the whole pipeline.\n",
    "# Could also just use the genes that are present in KEGG or some similar criteria.\n",
    "snpedia_gene_names_to_use = snpedia_gene_names[1:10]\n",
    "print(len(snpedia_gene_names_to_use))"
   ]
  },
  {
   "cell_type": "code",
   "execution_count": 8,
   "metadata": {},
   "outputs": [
    {
     "name": "stdout",
     "output_type": "stream",
     "text": [
      "completed the web scraping step\n"
     ]
    }
   ],
   "source": [
    "# Do the web scraping step, building a dictionary mapping genes to SNPs to raw text strings.\n",
    "GENE_NUM_LIMIT = 1500\n",
    "PAUSE_AFTER = 50\n",
    "genes_to_snps_to_text = defaultdict(dict)\n",
    "for i,gene_name in enumerate(snpedia_gene_names_to_use,1):\n",
    "    genes_to_snps_to_text[gene_name] = utils.gene_to_snp_texts(site, gene_name)\n",
    "    if i%PAUSE_AFTER == 0:\n",
    "        time.sleep(10)\n",
    "        print(i)\n",
    "    if i%GENE_NUM_LIMIT == 0:\n",
    "        break\n",
    "print(\"completed the web scraping step\")"
   ]
  },
  {
   "cell_type": "code",
   "execution_count": 9,
   "metadata": {},
   "outputs": [],
   "source": [
    "# Producing a dataset in CSV format that shows genes, SNPs, and the text that was cleaned from each page.\n",
    "row_tuples_for_raw_df = []\n",
    "row_tuples_for_cleaned_df = []\n",
    "gene_to_cleaned_texts = defaultdict(list)\n",
    "for gene in genes_to_snps_to_text.keys():\n",
    "    for snp,raw_text in genes_to_snps_to_text[gene].items():\n",
    "        cleaned_text = utils.clean_raw_page_text(raw_text)\n",
    "        gene_to_cleaned_texts[gene].append(cleaned_text)\n",
    "        row_tuples_for_raw_df.append((gene, snp, raw_text))\n",
    "        row_tuples_for_cleaned_df.append((gene, snp, cleaned_text))"
   ]
  },
  {
   "cell_type": "code",
   "execution_count": 10,
   "metadata": {},
   "outputs": [
    {
     "data": {
      "text/html": [
       "<div>\n",
       "<style scoped>\n",
       "    .dataframe tbody tr th:only-of-type {\n",
       "        vertical-align: middle;\n",
       "    }\n",
       "\n",
       "    .dataframe tbody tr th {\n",
       "        vertical-align: top;\n",
       "    }\n",
       "\n",
       "    .dataframe thead th {\n",
       "        text-align: right;\n",
       "    }\n",
       "</style>\n",
       "<table border=\"1\" class=\"dataframe\">\n",
       "  <thead>\n",
       "    <tr style=\"text-align: right;\">\n",
       "      <th></th>\n",
       "      <th>gene</th>\n",
       "      <th>snp</th>\n",
       "      <th>text</th>\n",
       "    </tr>\n",
       "  </thead>\n",
       "  <tbody>\n",
       "    <tr>\n",
       "      <th>0</th>\n",
       "      <td>AANAT</td>\n",
       "      <td>Rs28936679</td>\n",
       "      <td>{{Rsnum\\n|rsid=28936679\\n|Gene=AANAT\\n|Chromos...</td>\n",
       "    </tr>\n",
       "    <tr>\n",
       "      <th>1</th>\n",
       "      <td>AANAT</td>\n",
       "      <td>Rs3760138</td>\n",
       "      <td>{{Rsnum\\n|rsid=3760138\\n|Gene=AANAT\\n|Chromoso...</td>\n",
       "    </tr>\n",
       "    <tr>\n",
       "      <th>2</th>\n",
       "      <td>AANAT</td>\n",
       "      <td>Rs4238989</td>\n",
       "      <td>{{Rsnum\\n|rsid=4238989\\n|Gene=AANAT\\n|Chromoso...</td>\n",
       "    </tr>\n",
       "    <tr>\n",
       "      <th>3</th>\n",
       "      <td>AANAT</td>\n",
       "      <td>Rs8150</td>\n",
       "      <td>{{Rsnum\\n|rsid=8150\\n|Gene=RHBDF2\\n|Chromosome...</td>\n",
       "    </tr>\n",
       "    <tr>\n",
       "      <th>4</th>\n",
       "      <td>AARS</td>\n",
       "      <td>Rs1064795664</td>\n",
       "      <td>{{Rsnum\\n|rsid=1064795664\\n|StabilizedOrientat...</td>\n",
       "    </tr>\n",
       "    <tr>\n",
       "      <th>5</th>\n",
       "      <td>AARS</td>\n",
       "      <td>Rs143370729</td>\n",
       "      <td>{{Rsnum\\n|rsid=143370729\\n|Chromosome=16\\n|Ori...</td>\n",
       "    </tr>\n",
       "    <tr>\n",
       "      <th>6</th>\n",
       "      <td>AARS</td>\n",
       "      <td>Rs267606621</td>\n",
       "      <td>{{Rsnum\\n|rsid=267606621\\n|Chromosome=16\\n|Ori...</td>\n",
       "    </tr>\n",
       "    <tr>\n",
       "      <th>7</th>\n",
       "      <td>AARS</td>\n",
       "      <td>Rs387906792</td>\n",
       "      <td>{{Rsnum\\n|rsid=387906792\\n|Orientation=minus\\n...</td>\n",
       "    </tr>\n",
       "    <tr>\n",
       "      <th>8</th>\n",
       "      <td>AARS</td>\n",
       "      <td>Rs786205157</td>\n",
       "      <td>{{Rsnum\\n|rsid=786205157\\n|Chromosome=16\\n|Ori...</td>\n",
       "    </tr>\n",
       "    <tr>\n",
       "      <th>9</th>\n",
       "      <td>AARS</td>\n",
       "      <td>Rs797044801</td>\n",
       "      <td>{{Rsnum\\n|rsid=797044801\\n|Chromosome=16\\n|Ori...</td>\n",
       "    </tr>\n",
       "  </tbody>\n",
       "</table>\n",
       "</div>"
      ],
      "text/plain": [
       "    gene           snp                                               text\n",
       "0  AANAT    Rs28936679  {{Rsnum\\n|rsid=28936679\\n|Gene=AANAT\\n|Chromos...\n",
       "1  AANAT     Rs3760138  {{Rsnum\\n|rsid=3760138\\n|Gene=AANAT\\n|Chromoso...\n",
       "2  AANAT     Rs4238989  {{Rsnum\\n|rsid=4238989\\n|Gene=AANAT\\n|Chromoso...\n",
       "3  AANAT        Rs8150  {{Rsnum\\n|rsid=8150\\n|Gene=RHBDF2\\n|Chromosome...\n",
       "4   AARS  Rs1064795664  {{Rsnum\\n|rsid=1064795664\\n|StabilizedOrientat...\n",
       "5   AARS   Rs143370729  {{Rsnum\\n|rsid=143370729\\n|Chromosome=16\\n|Ori...\n",
       "6   AARS   Rs267606621  {{Rsnum\\n|rsid=267606621\\n|Chromosome=16\\n|Ori...\n",
       "7   AARS   Rs387906792  {{Rsnum\\n|rsid=387906792\\n|Orientation=minus\\n...\n",
       "8   AARS   Rs786205157  {{Rsnum\\n|rsid=786205157\\n|Chromosome=16\\n|Ori...\n",
       "9   AARS   Rs797044801  {{Rsnum\\n|rsid=797044801\\n|Chromosome=16\\n|Ori..."
      ]
     },
     "execution_count": 10,
     "metadata": {},
     "output_type": "execute_result"
    }
   ],
   "source": [
    "# Generate the dataframe and subset to only include SNPs that had some amount of text extracted, and save as CSV file.\n",
    "raw_df = pd.DataFrame(row_tuples_for_raw_df, columns = [\"gene\",\"snp\",\"text\"])\n",
    "raw_df = raw_df[raw_df[\"text\"] != \"\"]\n",
    "raw_df.to_csv(os.path.join(\"data\",\"snps_and_scraped_text.csv\"), index=False)\n",
    "raw_df.head(10)"
   ]
  },
  {
   "cell_type": "code",
   "execution_count": 11,
   "metadata": {},
   "outputs": [
    {
     "data": {
      "text/html": [
       "<div>\n",
       "<style scoped>\n",
       "    .dataframe tbody tr th:only-of-type {\n",
       "        vertical-align: middle;\n",
       "    }\n",
       "\n",
       "    .dataframe tbody tr th {\n",
       "        vertical-align: top;\n",
       "    }\n",
       "\n",
       "    .dataframe thead th {\n",
       "        text-align: right;\n",
       "    }\n",
       "</style>\n",
       "<table border=\"1\" class=\"dataframe\">\n",
       "  <thead>\n",
       "    <tr style=\"text-align: right;\">\n",
       "      <th></th>\n",
       "      <th>gene</th>\n",
       "      <th>snp</th>\n",
       "      <th>text</th>\n",
       "    </tr>\n",
       "  </thead>\n",
       "  <tbody>\n",
       "    <tr>\n",
       "      <th>0</th>\n",
       "      <td>AANAT</td>\n",
       "      <td>Rs28936679</td>\n",
       "      <td>rs28936679, also known as Ala129Thr or A129T (...</td>\n",
       "    </tr>\n",
       "    <tr>\n",
       "      <th>1</th>\n",
       "      <td>AANAT</td>\n",
       "      <td>Rs3760138</td>\n",
       "      <td>Genetic differences in human circadian clock g...</td>\n",
       "    </tr>\n",
       "    <tr>\n",
       "      <th>2</th>\n",
       "      <td>AANAT</td>\n",
       "      <td>Rs4238989</td>\n",
       "      <td>Genetic differences in human circadian clock g...</td>\n",
       "    </tr>\n",
       "    <tr>\n",
       "      <th>39</th>\n",
       "      <td>ABCA1</td>\n",
       "      <td>Rs1800977</td>\n",
       "      <td>The -14C-&gt;T polymorphism rs1800977 of the ABCA...</td>\n",
       "    </tr>\n",
       "    <tr>\n",
       "      <th>40</th>\n",
       "      <td>ABCA1</td>\n",
       "      <td>Rs1883025</td>\n",
       "      <td>Apolipoprotein E levels in cerebrospinal fluid...</td>\n",
       "    </tr>\n",
       "    <tr>\n",
       "      <th>41</th>\n",
       "      <td>ABCA1</td>\n",
       "      <td>Rs2020927</td>\n",
       "      <td>rs2297404, rs2230808, and rs2020927 haplotype ...</td>\n",
       "    </tr>\n",
       "    <tr>\n",
       "      <th>42</th>\n",
       "      <td>ABCA1</td>\n",
       "      <td>Rs2066714</td>\n",
       "      <td>Apolipoprotein E levels in cerebrospinal fluid...</td>\n",
       "    </tr>\n",
       "    <tr>\n",
       "      <th>43</th>\n",
       "      <td>ABCA1</td>\n",
       "      <td>Rs2066715</td>\n",
       "      <td>Apolipoprotein E levels in cerebrospinal fluid...</td>\n",
       "    </tr>\n",
       "    <tr>\n",
       "      <th>46</th>\n",
       "      <td>ABCA1</td>\n",
       "      <td>Rs2230806</td>\n",
       "      <td>rs2230806, also known as Arg219Lys or R219K, i...</td>\n",
       "    </tr>\n",
       "    <tr>\n",
       "      <th>47</th>\n",
       "      <td>ABCA1</td>\n",
       "      <td>Rs2230808</td>\n",
       "      <td>rs2297404, rs2230808, and rs2020927 haplotype ...</td>\n",
       "    </tr>\n",
       "  </tbody>\n",
       "</table>\n",
       "</div>"
      ],
      "text/plain": [
       "     gene         snp                                               text\n",
       "0   AANAT  Rs28936679  rs28936679, also known as Ala129Thr or A129T (...\n",
       "1   AANAT   Rs3760138  Genetic differences in human circadian clock g...\n",
       "2   AANAT   Rs4238989  Genetic differences in human circadian clock g...\n",
       "39  ABCA1   Rs1800977  The -14C->T polymorphism rs1800977 of the ABCA...\n",
       "40  ABCA1   Rs1883025  Apolipoprotein E levels in cerebrospinal fluid...\n",
       "41  ABCA1   Rs2020927  rs2297404, rs2230808, and rs2020927 haplotype ...\n",
       "42  ABCA1   Rs2066714  Apolipoprotein E levels in cerebrospinal fluid...\n",
       "43  ABCA1   Rs2066715  Apolipoprotein E levels in cerebrospinal fluid...\n",
       "46  ABCA1   Rs2230806  rs2230806, also known as Arg219Lys or R219K, i...\n",
       "47  ABCA1   Rs2230808  rs2297404, rs2230808, and rs2020927 haplotype ..."
      ]
     },
     "execution_count": 11,
     "metadata": {},
     "output_type": "execute_result"
    }
   ],
   "source": [
    "# Generate the dataframe and subset to only include SNPs that had some amount of text extracted, and save as CSV file.\n",
    "cleaned_df = pd.DataFrame(row_tuples_for_cleaned_df, columns = [\"gene\",\"snp\",\"text\"])\n",
    "cleaned_df = cleaned_df[cleaned_df[\"text\"] != \"\"]\n",
    "cleaned_df.to_csv(os.path.join(\"data\",\"snps_and_cleaned_text.csv\"), index=False)\n",
    "cleaned_df.head(10)"
   ]
  },
  {
   "cell_type": "code",
   "execution_count": 12,
   "metadata": {},
   "outputs": [],
   "source": [
    "# Concatenate all the raw text that was scraped for all the SNPs for each gene, and generate a dataframe for it.\n",
    "#gene_to_concatenated_cleaned_texts = {g:\" \".join(texts).strip() for g,texts in gene_to_cleaned_texts.items()}\n",
    "#row_tuples = []\n",
    "#for gene,text in gene_to_concatenated_cleaned_texts.items():\n",
    "#    row_tuples.append((\"hsa\",gene,text))\n",
    "\n",
    "# Generate the dataframe and save as a CSV file.\n",
    "#df = pd.DataFrame(row_tuples, columns=[\"species\",\"unique_gene_identifiers\",\"descriptions\"])\n",
    "#df = df[df[\"descriptions\"] != \"\"]\n",
    "#df[\"other_gene_identifiers\"] = \"\"\n",
    "#df[\"gene_models\"] = \"\"\n",
    "#df[\"annotations\"] = \"\"\n",
    "#df[\"sources\"] = \"SNPedia\"\n",
    "#df = df[[\"species\",\"unique_gene_identifiers\",\"other_gene_identifiers\",\"gene_models\",\"descriptions\",\"annotations\",\"sources\"]]\n",
    "#df.to_csv(os.path.join(\"data\",\"genes_and_concatenated_cleaned_texts.csv\"), index=False)\n",
    "#df.head(10)        "
   ]
  },
  {
   "cell_type": "code",
   "execution_count": 13,
   "metadata": {},
   "outputs": [],
   "source": [
    "# We might not need to scrape for all the gene names in SNPEedia, because we can only use the ones mentioned in KEGG.\n",
    "#kegg_filename = \"/Users/irbraun/phenologs-with-oats/outputs/06_30_2020_h15m05s52_r1082/part_1_kegg_groupings.csv\"\n",
    "#kegg_df = pd.read_csv(kegg_filename)\n",
    "#kegg_df = kegg_df[kegg_df[\"species\"]==\"hsa\"]\n",
    "#kegg_gene_names = flatten([x.split(\"|\") for x in kegg_df[\"gene_names\"].values])\n",
    "#kegg_gene_names = [g.upper() for g in kegg_gene_names]\n",
    "#genes_in_snpedia_and_kegg = list(set(kegg_gene_names).intersection(set(snpedia_gene_names)))\n",
    "#print(len(genes_in_snpedia_and_kegg))"
   ]
  }
 ],
 "metadata": {
  "kernelspec": {
   "display_name": "Python 3",
   "language": "python",
   "name": "python3"
  },
  "language_info": {
   "codemirror_mode": {
    "name": "ipython",
    "version": 3
   },
   "file_extension": ".py",
   "mimetype": "text/x-python",
   "name": "python",
   "nbconvert_exporter": "python",
   "pygments_lexer": "ipython3",
   "version": "3.6.10"
  }
 },
 "nbformat": 4,
 "nbformat_minor": 4
}
