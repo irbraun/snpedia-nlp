{
 "cells": [
  {
   "cell_type": "markdown",
   "metadata": {},
   "source": [
    "### Description\n",
    "This notebook focuses on scraping the SNPedia website using the MediaWiki API to build a dataframe containing the raw text associated with each SNP associated with each gene. The raw texts are then preprocessed as a preliminary cleaning step to build a second dataset. This dataset is reshaped to be able to be able to easily read in by some other packages but the underlying data is the same. Some additional information is added to this dataframe, including whether or not each gene was mapped in some additional resources, such as the KEGG biochemical pathways database, informed by additional files from other repositories."
   ]
  },
  {
   "cell_type": "code",
   "execution_count": null,
   "metadata": {},
   "outputs": [],
   "source": [
    "from collections import defaultdict\n",
    "import pandas as pd\n",
    "import re\n",
    "import os\n",
    "import sys\n",
    "import time\n",
    "import mwclient\n",
    "import utils"
   ]
  },
  {
   "cell_type": "code",
   "execution_count": null,
   "metadata": {},
   "outputs": [],
   "source": [
    "# Get a list of the genes on SNPedia.\n",
    "site = mwclient.Site('bots.snpedia.com', path=\"/\")\n",
    "snpedia_gene_names = [page.name for page in site.Categories[\"Is_a_gene\"]]\n",
    "print(\"done\")"
   ]
  },
  {
   "cell_type": "code",
   "execution_count": null,
   "metadata": {},
   "outputs": [],
   "source": [
    "# How many genes are on SNPedia?\n",
    "print(len(snpedia_gene_names))"
   ]
  },
  {
   "cell_type": "code",
   "execution_count": null,
   "metadata": {},
   "outputs": [],
   "source": [
    "# What are the first few values in the list of gene names recovered?\n",
    "print(snpedia_gene_names[:10])"
   ]
  },
  {
   "cell_type": "code",
   "execution_count": null,
   "metadata": {},
   "outputs": [],
   "source": [
    "# Read in a file that has the list of genes that are mentioned in the KEGG biochemical pathways database.\n",
    "# This file was built using the KEGG REST API, would have to rerun the pipeline to produces it to get current results.\n",
    "kegg_df = pd.read_csv(os.path.join(\"data\",\"kegg_hsa_pathways.csv\"))\n",
    "kegg_gene_identifiers = utils.flatten([gene_identifiers.split(\"|\") for gene_identifiers in kegg_df[\"gene_identifiers\"].values])\n",
    "kegg_gene_identifier_set = set(kegg_gene_identifiers)\n",
    "print(len(kegg_gene_identifier_set))"
   ]
  },
  {
   "cell_type": "code",
   "execution_count": null,
   "metadata": {},
   "outputs": [],
   "source": [
    "# How many of the genes in SNPedia also have an entry in KEGG?\n",
    "kegg_gene_identifier_set_lowercased = set([g.lower() for g in list(kegg_gene_identifier_set)])\n",
    "is_in_kegg = {gene:(gene.lower() in kegg_gene_identifier_set_lowercased) for gene in snpedia_gene_names}\n",
    "print(len(is_in_kegg))\n",
    "print(sum(is_in_kegg.values()))"
   ]
  },
  {
   "cell_type": "code",
   "execution_count": null,
   "metadata": {},
   "outputs": [],
   "source": [
    "# Should we proceed with all of those genes, or just a subset of them? \n",
    "# Supposed to be used for testing, not when running the whole pipeline.\n",
    "# Could also just use the genes that are present in KEGG or some similar criteria.\n",
    "snpedia_gene_names_to_use = snpedia_gene_names[1:10]\n",
    "snpedia_gene_names_to_use = snpedia_gene_names\n",
    "print(len(snpedia_gene_names_to_use))"
   ]
  },
  {
   "cell_type": "code",
   "execution_count": null,
   "metadata": {},
   "outputs": [],
   "source": [
    "# Do the web scraping step, building a dictionary mapping genes to SNPs to raw text strings.\n",
    "GENE_NUM_LIMIT = 5000\n",
    "PAUSE_AFTER = 50\n",
    "genes_to_snps_to_text = defaultdict(dict)\n",
    "for i,gene_name in enumerate(snpedia_gene_names_to_use,1):\n",
    "    genes_to_snps_to_text[gene_name] = utils.gene_to_snp_texts(site, gene_name)\n",
    "    if i%PAUSE_AFTER == 0:\n",
    "        time.sleep(10)\n",
    "        print(i)\n",
    "    if i%GENE_NUM_LIMIT == 0:\n",
    "        break\n",
    "print(\"completed the web scraping step\")"
   ]
  },
  {
   "cell_type": "code",
   "execution_count": null,
   "metadata": {},
   "outputs": [],
   "source": [
    "# Producing a dataset in CSV format that shows genes, SNPs, and the text that was cleaned from each page.\n",
    "row_tuples_for_raw_df = []\n",
    "row_tuples_for_cleaned_df = []\n",
    "gene_to_cleaned_texts = defaultdict(list)\n",
    "for gene in genes_to_snps_to_text.keys():\n",
    "    for snp,raw_text in genes_to_snps_to_text[gene].items():\n",
    "        cleaned_text = utils.clean_raw_page_text(raw_text)\n",
    "        gene_to_cleaned_texts[gene].append(cleaned_text)\n",
    "        row_tuples_for_raw_df.append((gene, snp, raw_text))\n",
    "        row_tuples_for_cleaned_df.append((gene, snp, cleaned_text))"
   ]
  },
  {
   "cell_type": "code",
   "execution_count": null,
   "metadata": {},
   "outputs": [],
   "source": [
    "# Generate the dataframe and subset to only include SNPs that had some amount of text extracted, and save as CSV file.\n",
    "raw_df = pd.DataFrame(row_tuples_for_raw_df, columns = [\"gene\",\"snp\",\"text\"])\n",
    "raw_df = raw_df[raw_df[\"text\"] != \"\"]\n",
    "raw_df.to_csv(os.path.join(\"data\",\"snps_and_scraped_text.csv\"), index=False)\n",
    "raw_df.head(10)"
   ]
  },
  {
   "cell_type": "code",
   "execution_count": null,
   "metadata": {},
   "outputs": [],
   "source": [
    "# Generate the dataframe and subset to only include SNPs that had some amount of text extracted, and save as CSV file.\n",
    "cleaned_df = pd.DataFrame(row_tuples_for_cleaned_df, columns = [\"gene\",\"snp\",\"text\"])\n",
    "cleaned_df = cleaned_df[cleaned_df[\"text\"] != \"\"]\n",
    "cleaned_df.to_csv(os.path.join(\"data\",\"snps_and_cleaned_text.csv\"), index=False)\n",
    "cleaned_df.head(10)"
   ]
  },
  {
   "cell_type": "code",
   "execution_count": null,
   "metadata": {},
   "outputs": [],
   "source": [
    "# Concatenate all the raw text that was scraped for all the SNPs for each gene, and generate a dataframe for it.\n",
    "#gene_to_concatenated_cleaned_texts = {g:\" \".join(texts).strip() for g,texts in gene_to_cleaned_texts.items()}\n",
    "#row_tuples = []\n",
    "#for gene,text in gene_to_concatenated_cleaned_texts.items():\n",
    "#    row_tuples.append((\"hsa\",gene,text))\n",
    "\n",
    "# Generate the dataframe and save as a CSV file.\n",
    "#df = pd.DataFrame(row_tuples, columns=[\"species\",\"unique_gene_identifiers\",\"descriptions\"])\n",
    "#df = df[df[\"descriptions\"] != \"\"]\n",
    "#df[\"other_gene_identifiers\"] = \"\"\n",
    "#df[\"gene_models\"] = \"\"\n",
    "#df[\"annotations\"] = \"\"\n",
    "#df[\"sources\"] = \"SNPedia\"\n",
    "#df = df[[\"species\",\"unique_gene_identifiers\",\"other_gene_identifiers\",\"gene_models\",\"descriptions\",\"annotations\",\"sources\"]]\n",
    "#df.to_csv(os.path.join(\"data\",\"genes_and_concatenated_cleaned_texts.csv\"), index=False)\n",
    "#df.head(10)        "
   ]
  },
  {
   "cell_type": "code",
   "execution_count": null,
   "metadata": {},
   "outputs": [],
   "source": [
    "# We might not need to scrape for all the gene names in SNPEedia, because we can only use the ones mentioned in KEGG.\n",
    "#kegg_filename = \"/Users/irbraun/phenologs-with-oats/outputs/06_30_2020_h15m05s52_r1082/part_1_kegg_groupings.csv\"\n",
    "#kegg_df = pd.read_csv(kegg_filename)\n",
    "#kegg_df = kegg_df[kegg_df[\"species\"]==\"hsa\"]\n",
    "#kegg_gene_names = flatten([x.split(\"|\") for x in kegg_df[\"gene_names\"].values])\n",
    "#kegg_gene_names = [g.upper() for g in kegg_gene_names]\n",
    "#genes_in_snpedia_and_kegg = list(set(kegg_gene_names).intersection(set(snpedia_gene_names)))\n",
    "#print(len(genes_in_snpedia_and_kegg))"
   ]
  }
 ],
 "metadata": {
  "kernelspec": {
   "display_name": "Python 3",
   "language": "python",
   "name": "python3"
  },
  "language_info": {
   "codemirror_mode": {
    "name": "ipython",
    "version": 3
   },
   "file_extension": ".py",
   "mimetype": "text/x-python",
   "name": "python",
   "nbconvert_exporter": "python",
   "pygments_lexer": "ipython3",
   "version": "3.6.10"
  }
 },
 "nbformat": 4,
 "nbformat_minor": 4
}
