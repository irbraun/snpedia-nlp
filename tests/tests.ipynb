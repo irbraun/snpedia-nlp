{
 "cells": [
  {
   "cell_type": "code",
   "execution_count": 1,
   "metadata": {},
   "outputs": [],
   "source": [
    "# Create and run quick checks on the output data files here as needed."
   ]
  },
  {
   "cell_type": "code",
   "execution_count": 2,
   "metadata": {},
   "outputs": [
    {
     "name": "stdout",
     "output_type": "stream",
     "text": [
      "5451\n",
      "5451\n",
      "5081\n",
      "5081\n"
     ]
    }
   ],
   "source": [
    "# Looking at the relationship between the whole dataset of unique text strings and the separated files for surveys.\n",
    "# Together they should comprise the whole thing, and the overlap between them should be small.\n",
    "import pandas as pd\n",
    "df_all = pd.read_csv(\"../data/4_ids_and_unique_texts.csv\")\n",
    "df_1 = pd.read_csv(\"../data/6_part_1_binned_and_blocked_texts.csv\")\n",
    "df_2 = pd.read_csv(\"../data/6_part_2_binned_and_blocked_texts.csv\")\n",
    "\n",
    "# Checking relationship between entire dataset and parts, not equal because some short strings were removed.\n",
    "print(len(set(df_all[\"id\"])))\n",
    "print(len(set(df_all[\"text\"])))\n",
    "print(len(set(df_1[\"id\"].values).union(set(df_2[\"id\"].values))))\n",
    "print(len(set(df_1[\"text\"].values).union(set(df_2[\"text\"].values))))"
   ]
  },
  {
   "cell_type": "code",
   "execution_count": 3,
   "metadata": {},
   "outputs": [
    {
     "name": "stdout",
     "output_type": "stream",
     "text": [
      "2652\n",
      "2652\n",
      "0\n",
      "0\n",
      "2429\n",
      "2429\n"
     ]
    }
   ],
   "source": [
    "# What does the venn diagram between unique texts and their IDS in the two parts look like.\n",
    "print(len(set(df_1[\"id\"].values)-set(df_2[\"id\"].values)))\n",
    "print(len(set(df_1[\"text\"].values)-set(df_2[\"text\"].values)))\n",
    "print(len(set(df_2[\"id\"].values)-set(df_1[\"id\"].values)))\n",
    "print(len(set(df_2[\"text\"].values)-set(df_1[\"text\"].values)))\n",
    "print(len(set(df_1[\"id\"].values).intersection(set(df_2[\"id\"].values))))\n",
    "print(len(set(df_1[\"text\"].values).intersection(set(df_2[\"text\"].values))))\n",
    "\n",
    "# The second part is entirely contained with the first, because it's made up of texts from the first that were missed.\n",
    "# There are lots of texts from the first missing in the second, because these were already looked at.\n",
    "# It doesn't matter whether the id of text field is used these should be a one to one relationship for unique texts."
   ]
  },
  {
   "cell_type": "code",
   "execution_count": null,
   "metadata": {},
   "outputs": [],
   "source": []
  },
  {
   "cell_type": "code",
   "execution_count": null,
   "metadata": {},
   "outputs": [],
   "source": []
  },
  {
   "cell_type": "code",
   "execution_count": null,
   "metadata": {},
   "outputs": [],
   "source": []
  },
  {
   "cell_type": "code",
   "execution_count": null,
   "metadata": {},
   "outputs": [],
   "source": []
  },
  {
   "cell_type": "code",
   "execution_count": null,
   "metadata": {},
   "outputs": [],
   "source": []
  },
  {
   "cell_type": "code",
   "execution_count": null,
   "metadata": {},
   "outputs": [],
   "source": []
  }
 ],
 "metadata": {
  "kernelspec": {
   "display_name": "Python 3",
   "language": "python",
   "name": "python3"
  },
  "language_info": {
   "codemirror_mode": {
    "name": "ipython",
    "version": 3
   },
   "file_extension": ".py",
   "mimetype": "text/x-python",
   "name": "python",
   "nbconvert_exporter": "python",
   "pygments_lexer": "ipython3",
   "version": "3.6.10"
  }
 },
 "nbformat": 4,
 "nbformat_minor": 4
}
